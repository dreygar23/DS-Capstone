{
 "cells": [
  {
   "cell_type": "markdown",
   "metadata": {},
   "source": [
    "# Import libraries"
   ]
  },
  {
   "cell_type": "code",
   "execution_count": 1,
   "metadata": {},
   "outputs": [],
   "source": [
    "import pandas as pd\n",
    "import uuid\n",
    "import os \n",
    "from collections import defaultdict\n",
    "from datetime import date\n",
    "import datetime\n",
    "from pandasql import sqldf\n",
    "pysqldf = lambda q: sqldf(q, globals())"
   ]
  },
  {
   "cell_type": "markdown",
   "metadata": {},
   "source": [
    "### Get current dir and move to appropriate location to import file"
   ]
  },
  {
   "cell_type": "code",
   "execution_count": 2,
   "metadata": {},
   "outputs": [
    {
     "name": "stdout",
     "output_type": "stream",
     "text": [
      "/Users/andreagarcia/Documents/Data Science Grad Program/Fall 2021/Capstone/Development/data\n"
     ]
    }
   ],
   "source": [
    "#Move directories to find file\n",
    "os.getcwd()\n",
    "os.chdir('../data')\n",
    "print(os.path.abspath(os.curdir))"
   ]
  },
  {
   "cell_type": "markdown",
   "metadata": {},
   "source": [
    "### Import file to obtain PIDs "
   ]
  },
  {
   "cell_type": "code",
   "execution_count": 3,
   "metadata": {},
   "outputs": [],
   "source": [
    "file_path = \"all_programs_original.xlsx\"\n",
    "full_file = pd.read_excel (file_path)"
   ]
  },
  {
   "cell_type": "code",
   "execution_count": 85,
   "metadata": {},
   "outputs": [
    {
     "name": "stdout",
     "output_type": "stream",
     "text": [
      "<class 'pandas.core.frame.DataFrame'>\n",
      "RangeIndex: 615165 entries, 0 to 615164\n",
      "Data columns (total 40 columns):\n",
      " #   Column             Non-Null Count   Dtype  \n",
      "---  ------             --------------   -----  \n",
      " 0   EMPLID             615165 non-null  int64  \n",
      " 1   TERM_ID            615165 non-null  int64  \n",
      " 2   ADMIT_TERM         615165 non-null  object \n",
      " 3   ADMIT_STRM         615165 non-null  int64  \n",
      " 4   ACAD_YR            615165 non-null  object \n",
      " 5   TOT_ACT            121526 non-null  float64\n",
      " 6   TOT_SAT            189026 non-null  float64\n",
      " 7   TOT_SAT_W          187130 non-null  float64\n",
      " 8   DATE_OF_BIRTH      615165 non-null  int64  \n",
      " 9   ETHNICITY          615165 non-null  object \n",
      " 10  STUDENT_GENDER     615165 non-null  object \n",
      " 11  ADMIT_COLLEGE      615165 non-null  object \n",
      " 12  ADMIT_DEPARTMENT   615165 non-null  object \n",
      " 13  FL_RESY            615165 non-null  object \n",
      " 14  emplid2            615165 non-null  int64  \n",
      " 15  ACAD_YR3           615165 non-null  object \n",
      " 16  TERM_ID4           615165 non-null  int64  \n",
      " 17  TERM_DESC          615165 non-null  object \n",
      " 18  COURSE_NAME        615165 non-null  object \n",
      " 19  CRS_PREFIX         615165 non-null  object \n",
      " 20  CRS_NUMBER         615165 non-null  int64  \n",
      " 21  CRS_SECT_NUMBER    615165 non-null  object \n",
      " 22  CREDITS            615165 non-null  float64\n",
      " 23  CRS_GRADE          615165 non-null  object \n",
      " 24  INST_MODE_DESCR    615165 non-null  object \n",
      " 25  UCC_CRSE_FLG       615165 non-null  object \n",
      " 26  EMPLID5            615165 non-null  int64  \n",
      " 27  TERM_ID6           615165 non-null  int64  \n",
      " 28  PELL_IND           615165 non-null  object \n",
      " 29  PELL_ELIGIBILITY   615165 non-null  object \n",
      " 30  INST_GPA           615165 non-null  float64\n",
      " 31  CUM_HRS_XFR        615165 non-null  float64\n",
      " 32  TERM_COLLEGE       615165 non-null  object \n",
      " 33  TERM_DEPARTMENT    615165 non-null  object \n",
      " 34  ENROLLMENT_STATUS  615165 non-null  object \n",
      " 35  ACAD_PLAN          615165 non-null  object \n",
      " 36  ACAD_SUB_PLAN      615165 non-null  object \n",
      " 37  STUDENT_ADM_TYPE   615165 non-null  object \n",
      " 38  GATEWAYCRSE_FLG    615165 non-null  object \n",
      " 39  Modal_Group        615165 non-null  object \n",
      "dtypes: float64(6), int64(9), object(25)\n",
      "memory usage: 187.7+ MB\n"
     ]
    }
   ],
   "source": [
    "full_file.info()"
   ]
  },
  {
   "cell_type": "code",
   "execution_count": 7,
   "metadata": {},
   "outputs": [],
   "source": [
    "id_list = full_file['EMPLID'].unique().tolist()"
   ]
  },
  {
   "cell_type": "code",
   "execution_count": 9,
   "metadata": {},
   "outputs": [],
   "source": [
    "id_df = pd.DataFrame(id_list, columns=['EMPLID'], dtype=int)"
   ]
  },
  {
   "cell_type": "markdown",
   "metadata": {},
   "source": [
    "### Export IDs File"
   ]
  },
  {
   "cell_type": "code",
   "execution_count": 27,
   "metadata": {},
   "outputs": [],
   "source": [
    "id_df.to_excel('student_ids.xlsx', encoding='utf-8')"
   ]
  },
  {
   "cell_type": "markdown",
   "metadata": {},
   "source": [
    "# Import student ids file"
   ]
  },
  {
   "cell_type": "code",
   "execution_count": 4,
   "metadata": {},
   "outputs": [
    {
     "name": "stdout",
     "output_type": "stream",
     "text": [
      "/Users/andreagarcia/Documents/Data Science Grad Program/Fall 2021/Capstone/Development/data\n"
     ]
    }
   ],
   "source": [
    "print(os.getcwd())"
   ]
  },
  {
   "cell_type": "code",
   "execution_count": 5,
   "metadata": {},
   "outputs": [],
   "source": [
    "path = \"student_ids.xlsx\"\n",
    "anon = pd.read_excel (path)"
   ]
  },
  {
   "cell_type": "code",
   "execution_count": 6,
   "metadata": {},
   "outputs": [],
   "source": [
    "anon.drop('Unnamed: 0', axis=1, inplace=True)"
   ]
  },
  {
   "cell_type": "code",
   "execution_count": 7,
   "metadata": {},
   "outputs": [],
   "source": [
    "anon.reset_index(drop=True, inplace=True) "
   ]
  },
  {
   "cell_type": "markdown",
   "metadata": {},
   "source": [
    "### Create uuid"
   ]
  },
  {
   "cell_type": "code",
   "execution_count": 11,
   "metadata": {},
   "outputs": [],
   "source": [
    "anon['uuid'] = [uuid.uuid4() for _ in range(len(anon.index))]"
   ]
  },
  {
   "cell_type": "code",
   "execution_count": null,
   "metadata": {},
   "outputs": [],
   "source": [
    "anon"
   ]
  },
  {
   "cell_type": "code",
   "execution_count": 18,
   "metadata": {},
   "outputs": [
    {
     "data": {
      "text/plain": [
       "38738"
      ]
     },
     "execution_count": 18,
     "metadata": {},
     "output_type": "execute_result"
    }
   ],
   "source": [
    "anon['uuid'].nunique()"
   ]
  },
  {
   "cell_type": "markdown",
   "metadata": {},
   "source": [
    "### Export mapping file"
   ]
  },
  {
   "cell_type": "code",
   "execution_count": 53,
   "metadata": {},
   "outputs": [],
   "source": [
    "anon.to_excel('student_ids_mapping.xlsx', encoding='utf-8')"
   ]
  },
  {
   "cell_type": "markdown",
   "metadata": {},
   "source": [
    "## Import graduated students file"
   ]
  },
  {
   "cell_type": "code",
   "execution_count": 9,
   "metadata": {},
   "outputs": [],
   "source": [
    "deg_path = \"degrees_awarded_original.xlsx\"\n",
    "deg_file = pd.read_excel (deg_path)"
   ]
  },
  {
   "cell_type": "code",
   "execution_count": 11,
   "metadata": {},
   "outputs": [],
   "source": [
    "def convertStrm(term_id):\n",
    "    term = str(term_id)\n",
    "    \n",
    "    strm = \"1\" + term[2:4] + term[-1:]\n",
    "    return int(strm)"
   ]
  },
  {
   "cell_type": "code",
   "execution_count": 12,
   "metadata": {},
   "outputs": [],
   "source": [
    "deg_file['grad_strm'] = deg_file['Term_id'].apply(convertStrm) "
   ]
  },
  {
   "cell_type": "markdown",
   "metadata": {},
   "source": [
    "# Merge degree file with main student file"
   ]
  },
  {
   "cell_type": "code",
   "execution_count": 15,
   "metadata": {},
   "outputs": [],
   "source": [
    "deg_data = pd.merge(full_file, deg_file, how='left', on=['EMPLID'],\n",
    "         suffixes=('_og', '_deg'), copy=True, indicator=False,\n",
    "         validate=None)"
   ]
  },
  {
   "cell_type": "code",
   "execution_count": 16,
   "metadata": {},
   "outputs": [
    {
     "data": {
      "text/plain": [
       "38738"
      ]
     },
     "execution_count": 16,
     "metadata": {},
     "output_type": "execute_result"
    }
   ],
   "source": [
    "deg_data['EMPLID'].nunique()"
   ]
  },
  {
   "cell_type": "code",
   "execution_count": null,
   "metadata": {},
   "outputs": [],
   "source": [
    "deg_data.sample(5)"
   ]
  },
  {
   "cell_type": "code",
   "execution_count": 18,
   "metadata": {},
   "outputs": [],
   "source": [
    "deg_data['grad_strm'] = deg_data['grad_strm'].fillna(-1)\n"
   ]
  },
  {
   "cell_type": "code",
   "execution_count": 19,
   "metadata": {},
   "outputs": [],
   "source": [
    "def compareStrm(admit, grad): \n",
    "    admit = int(admit)\n",
    "    grad = int(grad)\n",
    "\n",
    "    return '' if admit > grad else grad"
   ]
  },
  {
   "cell_type": "code",
   "execution_count": 20,
   "metadata": {},
   "outputs": [],
   "source": [
    "deg_data['grad_strm_new'] = deg_data.apply(lambda x: compareStrm(x['ADMIT_STRM'], x['grad_strm']), axis=1)"
   ]
  },
  {
   "cell_type": "code",
   "execution_count": null,
   "metadata": {},
   "outputs": [],
   "source": [
    "deg_data.info()"
   ]
  },
  {
   "cell_type": "code",
   "execution_count": 23,
   "metadata": {},
   "outputs": [],
   "source": [
    "def test(admit, grad): \n",
    "    admit = int(admit)\n",
    "    grad = int(grad)\n",
    "    return True if admit > grad else False"
   ]
  },
  {
   "cell_type": "code",
   "execution_count": 24,
   "metadata": {},
   "outputs": [],
   "source": [
    "deg_data['test_flag'] = deg_data.apply(lambda x: test(x['ADMIT_STRM'], x['grad_strm']), axis=1)"
   ]
  },
  {
   "cell_type": "code",
   "execution_count": 25,
   "metadata": {},
   "outputs": [],
   "source": [
    "test_df = deg_data.groupby(['test_flag']).agg({'EMPLID': ['nunique']})\n"
   ]
  },
  {
   "cell_type": "code",
   "execution_count": 113,
   "metadata": {},
   "outputs": [],
   "source": [
    "deg_data.to_excel('deg_programs_all.xlsx', encoding='utf-8')"
   ]
  },
  {
   "cell_type": "markdown",
   "metadata": {},
   "source": [
    "# Merge mapping file with main student file"
   ]
  },
  {
   "cell_type": "code",
   "execution_count": 28,
   "metadata": {},
   "outputs": [],
   "source": [
    "map_path = \"student_ids_mapping.xlsx\"\n",
    "map_file = pd.read_excel (map_path)"
   ]
  },
  {
   "cell_type": "code",
   "execution_count": 29,
   "metadata": {},
   "outputs": [],
   "source": [
    "anon_data = pd.merge(deg_data, map_file, how='left', on=['EMPLID'],\n",
    "         suffixes=('_og', '_anon'), copy=True, indicator=False,\n",
    "         validate=None)"
   ]
  },
  {
   "cell_type": "markdown",
   "metadata": {},
   "source": [
    "# Calculate Age"
   ]
  },
  {
   "cell_type": "code",
   "execution_count": 65,
   "metadata": {},
   "outputs": [],
   "source": [
    "# Use to calculate the age of the student\n",
    "'''\n",
    "dob: student's date of birth\n",
    "term: the term used to calculate the date to compare to the student's date of birth (admission, enrollment, etc.)\n",
    "      this should be the four digit term code and not the six digit term id\n",
    "'''\n",
    "def ageCalculator(dob, term):\n",
    "    # formatting date of birth\n",
    "    dob = str(dob)\n",
    "    dateOfBirth = date(year=int(dob[0:4]), month=int(dob[4:6]), day=int(dob[6:8]))\n",
    "    \n",
    "    # preparing to format pseudo date for term\n",
    "    season = int(str(term)[-1])\n",
    "    \n",
    "    if len(str(term)) == 4:\n",
    "        year = int('20' + str(term)[1:3])\n",
    "    elif len(str(term)) == 6:\n",
    "        year = int(str(term)[0:4])\n",
    "    \n",
    "    term_date = datetime.date(year, season, 1)\n",
    "        \n",
    "    try:\n",
    "        birthday = dateOfBirth.replace(year = term_date.year)\n",
    " \n",
    "    # used to deal with 2/29 birthdays (leap years)\n",
    "    except ValueError:\n",
    "        birthday = dateOfBirth.replace(year = term_date.year,\n",
    "                  month = dateOfBirth.month + 1, day = 1)\n",
    " \n",
    "    if birthday > term_date:\n",
    "        return term_date.year - dateOfBirth.year - 1\n",
    "    else:\n",
    "        return term_date.year - dateOfBirth.year\n",
    "    "
   ]
  },
  {
   "cell_type": "code",
   "execution_count": 66,
   "metadata": {},
   "outputs": [],
   "source": [
    "# Calculate age at time of admission\n",
    "anon_data['age_admission'] = anon_data.apply(lambda x: ageCalculator(x['DATE_OF_BIRTH'], x['ADMIT_STRM']), axis=1)"
   ]
  },
  {
   "cell_type": "code",
   "execution_count": 67,
   "metadata": {},
   "outputs": [],
   "source": [
    "# Calculate age at time of enrollment term\n",
    "anon_data['age_enrlterm'] = anon_data.apply(lambda x: ageCalculator(x['DATE_OF_BIRTH'], x['TERM_ID4']), axis=1)"
   ]
  },
  {
   "cell_type": "code",
   "execution_count": 75,
   "metadata": {},
   "outputs": [
    {
     "data": {
      "text/plain": [
       "(637327, 55)"
      ]
     },
     "execution_count": 75,
     "metadata": {},
     "output_type": "execute_result"
    }
   ],
   "source": [
    "anon_data.shape"
   ]
  },
  {
   "cell_type": "code",
   "execution_count": 33,
   "metadata": {},
   "outputs": [],
   "source": [
    "# Keep only grades with a grade point value\n",
    "anon_data['CRS_GRADE']=anon_data['CRS_GRADE'].apply(lambda x: x.strip())\n",
    "grades_to_keep = ['A', 'A-', 'B+', 'B', 'B-', 'C+', 'C', 'C-', 'D+', 'D', 'D-', 'F', 'P']\n",
    "anon_data_grades = anon_data.loc[anon_data['CRS_GRADE'].isin(grades_to_keep)].copy()"
   ]
  },
  {
   "cell_type": "code",
   "execution_count": 34,
   "metadata": {},
   "outputs": [
    {
     "data": {
      "text/plain": [
       "(564787, 53)"
      ]
     },
     "execution_count": 34,
     "metadata": {},
     "output_type": "execute_result"
    }
   ],
   "source": [
    "anon_data_grades.shape"
   ]
  },
  {
   "cell_type": "code",
   "execution_count": null,
   "metadata": {},
   "outputs": [],
   "source": [
    "anon_data_grades.loc[anon_data_grades['CRS_GRADE'] == 'F']"
   ]
  },
  {
   "cell_type": "markdown",
   "metadata": {},
   "source": [
    "# Delete PII (DOB and EMPLID)"
   ]
  },
  {
   "cell_type": "code",
   "execution_count": 36,
   "metadata": {},
   "outputs": [],
   "source": [
    "cols_to_drop = [\n",
    "    'TERM_ID6',\n",
    "    'Gender',\n",
    "    'Ethnicity',\n",
    "    'emplid2',\n",
    "    'EMPLID5',\n",
    "    'test_flag',\n",
    "    'EMPLID',\n",
    "    'DATE_OF_BIRTH',\n",
    "    'Unnamed: 0']"
   ]
  },
  {
   "cell_type": "code",
   "execution_count": 37,
   "metadata": {},
   "outputs": [],
   "source": [
    "anon_data_grades.drop(cols_to_drop, axis=1, inplace=True)"
   ]
  },
  {
   "cell_type": "markdown",
   "metadata": {},
   "source": [
    "# Export Anonymized file"
   ]
  },
  {
   "cell_type": "code",
   "execution_count": 39,
   "metadata": {},
   "outputs": [],
   "source": [
    "anon_data_grades.to_excel('anon_data_all.xlsx', encoding='utf-8')"
   ]
  },
  {
   "cell_type": "code",
   "execution_count": null,
   "metadata": {},
   "outputs": [],
   "source": []
  }
 ],
 "metadata": {
  "kernelspec": {
   "display_name": "Python 3",
   "language": "python",
   "name": "python3"
  },
  "language_info": {
   "codemirror_mode": {
    "name": "ipython",
    "version": 3
   },
   "file_extension": ".py",
   "mimetype": "text/x-python",
   "name": "python",
   "nbconvert_exporter": "python",
   "pygments_lexer": "ipython3",
   "version": "3.8.5"
  }
 },
 "nbformat": 4,
 "nbformat_minor": 4
}
